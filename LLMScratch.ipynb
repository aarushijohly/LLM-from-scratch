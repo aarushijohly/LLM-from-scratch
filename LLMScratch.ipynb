{
 "cells": [
  {
   "cell_type": "markdown",
   "id": "6b8869b0-8e6f-4db6-b1dd-d9e05d51a75d",
   "metadata": {},
   "source": [
    "Dataset used: 'The verdict' by Edith Warton(1908)"
   ]
  },
  {
   "cell_type": "markdown",
   "id": "87e0f6be-81be-44b0-9c54-7b7c941c7123",
   "metadata": {},
   "source": [
    "Step 1: Creating Tokens"
   ]
  },
  {
   "cell_type": "code",
   "execution_count": 1,
   "id": "11a459b0-59f5-4a80-a47a-2f54256e91b7",
   "metadata": {},
   "outputs": [],
   "source": [
    "with open(\"the-verdict.txt\", \"r\", encoding=\"utf-8\") as f:\n",
    "    raw_text = f.read()"
   ]
  },
  {
   "cell_type": "code",
   "execution_count": 2,
   "id": "b38f189b-e720-4a3f-a67d-64d0b3b93b56",
   "metadata": {},
   "outputs": [
    {
     "name": "stdout",
     "output_type": "stream",
     "text": [
      "Total number of character: 20479\n",
      "I HAD always thought Jack Gisburn rather a cheap genius--though a good fellow enough--so it was no \n"
     ]
    }
   ],
   "source": [
    "print(\"Total number of character:\", len(raw_text))\n",
    "print(raw_text[:99])"
   ]
  },
  {
   "cell_type": "code",
   "execution_count": 3,
   "id": "3d7e4561-9ba7-447a-a17f-ce535ab43576",
   "metadata": {},
   "outputs": [
    {
     "name": "stdout",
     "output_type": "stream",
     "text": [
      "['I', 'HAD', 'always', 'thought', 'Jack', 'Gisburn', 'rather', 'a', 'cheap', 'genius', '--', 'though', 'a', 'good', 'fellow']\n",
      "4690\n"
     ]
    }
   ],
   "source": [
    "import re\n",
    "\n",
    "preprocessed = re.split(r'([,.:;?_!\"()\\']|--|\\s)', raw_text)\n",
    "preprocessed = [item.strip() for item in preprocessed if item.strip()]\n",
    "\n",
    "print(preprocessed[:15])\n",
    "print(len(preprocessed))"
   ]
  },
  {
   "cell_type": "markdown",
   "id": "245db99e-6c1f-449d-8ec8-4f291bf616d3",
   "metadata": {},
   "source": [
    "Step 2: Creating Token IDs"
   ]
  },
  {
   "cell_type": "code",
   "execution_count": 4,
   "id": "c5f775bf-e8d7-4c85-be60-439f0f773248",
   "metadata": {},
   "outputs": [
    {
     "data": {
      "text/plain": [
       "1130"
      ]
     },
     "execution_count": 4,
     "metadata": {},
     "output_type": "execute_result"
    }
   ],
   "source": [
    "all_words = sorted(set(preprocessed))\n",
    "vocab_size = len(all_words)\n",
    "vocab = {token:integer for integer,token in enumerate(all_words)}\n",
    "len(vocab)"
   ]
  },
  {
   "cell_type": "markdown",
   "id": "05b2e09c-844d-4e3b-9e71-05d07edb1681",
   "metadata": {},
   "source": [
    "Implementing a python class for tokenization.\n",
    "This class will have two methods, encode and decode.\n",
    "Step 1: Store the vocabulary as class attribute for access in the encode and decode method\n",
    "Step 2: Create an inverse vocabulary that maps token IDs back to the original text tokens\n",
    "Step 3: process input text into token IDs\n",
    "Step 4: Convert token IDs back into text"
   ]
  },
  {
   "cell_type": "code",
   "execution_count": 5,
   "id": "7f223aeb-b2ab-424a-9c47-e5d859e255e4",
   "metadata": {},
   "outputs": [],
   "source": [
    "class SimpleTokenizerV1:\n",
    "    def __init__(self, vocab):\n",
    "        self.toInt = vocab\n",
    "        self.toStr = {t:s for s, t in vocab.items()}\n",
    "\n",
    "    def encode(self, text):\n",
    "            preprocessed = re.split(r'[,.:;?_!\"()\\']|--|\\s', text)\n",
    "            preprocessed = [item.strip() for item in preprocessed if item.strip()]\n",
    "            ids = [self.toInt[s] for s in preprocessed]\n",
    "            return ids\n",
    "\n",
    "    def decode(self, ids):\n",
    "        text = \" \".join([self.toStr[i] for i in ids])\n",
    "        text = re.sub(r'\\s+([,.?!\"()\\'])', r'\\1', text)\n",
    "        return text"
   ]
  },
  {
   "cell_type": "code",
   "execution_count": 6,
   "id": "24562335-68c2-418c-a0ab-c61be98c2e6b",
   "metadata": {},
   "outputs": [
    {
     "name": "stdout",
     "output_type": "stream",
     "text": [
      "[56, 850, 988, 602, 533, 746, 1126, 596, 67, 38, 851, 1108, 754, 793]\n"
     ]
    }
   ],
   "source": [
    "tokenizer = SimpleTokenizerV1(vocab)\n",
    "text = \"\"\"\"It's the last he painted, you know,\"\n",
    "           Mrs. Gisburn said with pardonable pride.\"\"\"\n",
    "ids = tokenizer.encode(text)\n",
    "print(ids)"
   ]
  },
  {
   "cell_type": "code",
   "execution_count": 7,
   "id": "8afca925-2d4b-48d3-8e28-ccce24d8e679",
   "metadata": {},
   "outputs": [
    {
     "data": {
      "text/plain": [
       "'It s the last he painted you know Mrs Gisburn said with pardonable pride'"
      ]
     },
     "execution_count": 7,
     "metadata": {},
     "output_type": "execute_result"
    }
   ],
   "source": [
    "tokenizer.decode(ids)"
   ]
  },
  {
   "cell_type": "code",
   "execution_count": 8,
   "id": "7106b9b8-a8b3-4875-ba25-496de99e4cb1",
   "metadata": {},
   "outputs": [],
   "source": [
    "temp = \"Hello, do you like tea?\"\n",
    "#print(tokenizer.encode(temp))"
   ]
  },
  {
   "cell_type": "code",
   "execution_count": 9,
   "id": "7f1f3eaf-efff-476d-a181-7f0343a0a0fc",
   "metadata": {},
   "outputs": [
    {
     "data": {
      "text/plain": [
       "1132"
      ]
     },
     "execution_count": 9,
     "metadata": {},
     "output_type": "execute_result"
    }
   ],
   "source": [
    "all_tokens = sorted(set(preprocessed))\n",
    "all_tokens.extend([\"<|endoftext|>\", \"<|unk|>\"])\n",
    "vocabV2 = {token:integer for integer,token in enumerate(all_tokens)}\n",
    "len(vocabV2)"
   ]
  },
  {
   "cell_type": "code",
   "execution_count": 10,
   "id": "70ec9f79-dd72-4358-8c20-c077544e4e3f",
   "metadata": {},
   "outputs": [
    {
     "name": "stdout",
     "output_type": "stream",
     "text": [
      "('younger', 1127)\n",
      "('your', 1128)\n",
      "('yourself', 1129)\n",
      "('<|endoftext|>', 1130)\n",
      "('<|unk|>', 1131)\n"
     ]
    }
   ],
   "source": [
    "for item in list(vocabV2.items())[-5:]:\n",
    "    print(item)"
   ]
  },
  {
   "cell_type": "code",
   "execution_count": 11,
   "id": "b0b32256-8f59-428f-8a47-2f6af84f9f0f",
   "metadata": {},
   "outputs": [],
   "source": [
    "class SimpleTokenizerV2:\n",
    "    def __init__(self, vocab):\n",
    "        self.toInt = vocab\n",
    "        self.toStr = {integer:token for token, integer in vocab.items()}\n",
    "\n",
    "    def encode(self, vocab):\n",
    "        preprocessed = re.split(r'([,.:;?_!()\\']|--|\\s)', text)\n",
    "        preprocessed = [item.strip() for item in preprocessed if item.strip()]\n",
    "        preprocessed = [\n",
    "            item if item in self.toInt\n",
    "            else \"<|unk|>\" for item in preprocessed            \n",
    "        ]\n",
    "        ids = [self.toInt[s] for s in preprocessed]\n",
    "        return ids\n",
    "\n",
    "    def decode(self, ids):\n",
    "        text = \" \".join([self.toStr[i] for i in ids])\n",
    "        text = re.sub(r'\\s+([,.?!\"()\\'])', r'\\1', text)\n",
    "        return text\n"
   ]
  },
  {
   "cell_type": "code",
   "execution_count": 12,
   "id": "988e9fa4-c3b8-45ef-a70e-d3dd520bb0f8",
   "metadata": {},
   "outputs": [],
   "source": [
    "tokenizerV2 = SimpleTokenizerV2(vocabV2)"
   ]
  },
  {
   "cell_type": "code",
   "execution_count": 13,
   "id": "5baeb243-ca14-4a3d-8130-a8f01ed329e1",
   "metadata": {},
   "outputs": [
    {
     "name": "stdout",
     "output_type": "stream",
     "text": [
      "[1131, 2, 850, 988, 602, 533, 746, 5, 1126, 596, 5, 1, 67, 7, 38, 851, 1108, 754, 793, 7]\n"
     ]
    }
   ],
   "source": [
    "temp1 = \"Hello, do you like tea?\"\n",
    "temp2 = \"In the sunlit terraces of the palace.\"\n",
    "temp = \" <|endoftext|> \".join((temp1, temp2))\n",
    "ids = tokenizerV2.encode(temp)\n",
    "print(ids)"
   ]
  },
  {
   "cell_type": "code",
   "execution_count": 14,
   "id": "99f920b0-08e7-4687-a235-723494fc3aa6",
   "metadata": {},
   "outputs": [
    {
     "data": {
      "text/plain": [
       "'<|unk|>\\' s the last he painted, you know,\" Mrs. Gisburn said with pardonable pride.'"
      ]
     },
     "execution_count": 14,
     "metadata": {},
     "output_type": "execute_result"
    }
   ],
   "source": [
    "tokenizerV2.decode(ids)"
   ]
  },
  {
   "cell_type": "code",
   "execution_count": null,
   "id": "5f20a400-8f2c-4031-afb5-d045b0608d76",
   "metadata": {},
   "outputs": [],
   "source": []
  },
  {
   "cell_type": "code",
   "execution_count": null,
   "id": "afac4977-0770-4205-a8ec-404097571573",
   "metadata": {},
   "outputs": [],
   "source": []
  },
  {
   "cell_type": "code",
   "execution_count": null,
   "id": "cfd87e7e-cab3-4092-b285-42e1ebc3b9a4",
   "metadata": {},
   "outputs": [],
   "source": []
  },
  {
   "cell_type": "code",
   "execution_count": null,
   "id": "5775dcc9-1ac5-4df1-afac-6884d050fe18",
   "metadata": {},
   "outputs": [],
   "source": []
  },
  {
   "cell_type": "code",
   "execution_count": null,
   "id": "e8345b58-581c-45bb-bc86-28072cdadbdd",
   "metadata": {},
   "outputs": [],
   "source": []
  },
  {
   "cell_type": "code",
   "execution_count": null,
   "id": "cd686695-d926-4b05-9507-aa247e55f789",
   "metadata": {},
   "outputs": [],
   "source": []
  },
  {
   "cell_type": "code",
   "execution_count": null,
   "id": "1f37e12d-1057-4f34-a760-006868ad7f7c",
   "metadata": {},
   "outputs": [],
   "source": []
  },
  {
   "cell_type": "code",
   "execution_count": null,
   "id": "1d2a81b9-030f-4240-a178-f4e67c587ed8",
   "metadata": {},
   "outputs": [],
   "source": []
  },
  {
   "cell_type": "code",
   "execution_count": null,
   "id": "2a604a8d-664c-429d-908f-e295d7e1d384",
   "metadata": {},
   "outputs": [],
   "source": []
  },
  {
   "cell_type": "code",
   "execution_count": null,
   "id": "cb028043-abf2-4713-a32a-2427adaa12ea",
   "metadata": {},
   "outputs": [],
   "source": []
  },
  {
   "cell_type": "code",
   "execution_count": null,
   "id": "1c64b506-1c74-4a86-a019-ac1ea5e046a3",
   "metadata": {},
   "outputs": [],
   "source": []
  },
  {
   "cell_type": "code",
   "execution_count": null,
   "id": "f1354dcb-abe7-4f92-8f3c-daa8bb047156",
   "metadata": {},
   "outputs": [],
   "source": []
  },
  {
   "cell_type": "code",
   "execution_count": null,
   "id": "b00ba8b6-984e-4225-9710-d3ed4e675778",
   "metadata": {},
   "outputs": [],
   "source": []
  },
  {
   "cell_type": "code",
   "execution_count": null,
   "id": "76fcda9c-d85a-4756-a348-2f04bfa43968",
   "metadata": {},
   "outputs": [],
   "source": []
  },
  {
   "cell_type": "code",
   "execution_count": null,
   "id": "a7a46022-15a4-441b-861e-302648b812e8",
   "metadata": {},
   "outputs": [],
   "source": []
  },
  {
   "cell_type": "code",
   "execution_count": null,
   "id": "7ffe9740-f066-4e33-8a93-0db435a66c6d",
   "metadata": {},
   "outputs": [],
   "source": []
  },
  {
   "cell_type": "code",
   "execution_count": null,
   "id": "b8870c19-96ec-4ad3-bd57-1d74fef716e6",
   "metadata": {},
   "outputs": [],
   "source": []
  },
  {
   "cell_type": "code",
   "execution_count": null,
   "id": "d35bafdc-3782-46f2-a6a8-4d03a7196985",
   "metadata": {},
   "outputs": [],
   "source": []
  },
  {
   "cell_type": "code",
   "execution_count": null,
   "id": "189e4809-6c23-4dc1-ba61-74442664f7ad",
   "metadata": {},
   "outputs": [],
   "source": []
  },
  {
   "cell_type": "code",
   "execution_count": null,
   "id": "f70e9064-98eb-42de-9864-3d3f83e41aeb",
   "metadata": {},
   "outputs": [],
   "source": []
  },
  {
   "cell_type": "code",
   "execution_count": null,
   "id": "598fa00b-e450-4bfb-974f-7b0d999b0dc6",
   "metadata": {},
   "outputs": [],
   "source": []
  },
  {
   "cell_type": "code",
   "execution_count": null,
   "id": "449178c7-46f1-4565-8fab-4f2cebf21c3c",
   "metadata": {},
   "outputs": [],
   "source": []
  },
  {
   "cell_type": "code",
   "execution_count": null,
   "id": "9c8034db-e595-4fc2-b243-3d180375066f",
   "metadata": {},
   "outputs": [],
   "source": []
  },
  {
   "cell_type": "code",
   "execution_count": null,
   "id": "2d3b3a5e-9f5c-46da-a5c5-128761c63973",
   "metadata": {},
   "outputs": [],
   "source": []
  },
  {
   "cell_type": "code",
   "execution_count": null,
   "id": "557e4c92-ef59-4a57-987f-8c7c7238aea4",
   "metadata": {},
   "outputs": [],
   "source": []
  },
  {
   "cell_type": "code",
   "execution_count": null,
   "id": "20616fee-2ddb-44af-aaa6-b9b9ee45989b",
   "metadata": {},
   "outputs": [],
   "source": []
  },
  {
   "cell_type": "code",
   "execution_count": null,
   "id": "e1dc5ab4-4026-4f4e-838a-66c16cf38220",
   "metadata": {},
   "outputs": [],
   "source": []
  },
  {
   "cell_type": "code",
   "execution_count": null,
   "id": "9fb098c3-c1f2-4672-b2ef-da525d9ec595",
   "metadata": {},
   "outputs": [],
   "source": []
  },
  {
   "cell_type": "code",
   "execution_count": null,
   "id": "90232cd4-a700-4e12-8ab1-43eff3c86605",
   "metadata": {},
   "outputs": [],
   "source": []
  },
  {
   "cell_type": "code",
   "execution_count": null,
   "id": "9676e89e-9b6e-4be3-b043-3e07a1bd13e3",
   "metadata": {},
   "outputs": [],
   "source": []
  },
  {
   "cell_type": "code",
   "execution_count": null,
   "id": "7eb4d4e3-45ae-4a7d-97b9-1c69b6f3c646",
   "metadata": {},
   "outputs": [],
   "source": []
  },
  {
   "cell_type": "code",
   "execution_count": null,
   "id": "2d830fa5-b180-45ae-be67-560e0cfa04e3",
   "metadata": {},
   "outputs": [],
   "source": []
  },
  {
   "cell_type": "code",
   "execution_count": null,
   "id": "82cb066f-2a00-47a5-9437-1e699d5b0eae",
   "metadata": {},
   "outputs": [],
   "source": []
  },
  {
   "cell_type": "code",
   "execution_count": null,
   "id": "3b587f07-b9e0-4c9f-948c-e53ff667beaa",
   "metadata": {},
   "outputs": [],
   "source": []
  },
  {
   "cell_type": "code",
   "execution_count": null,
   "id": "ff6f3fba-a3ac-4585-994b-3a411fbf61bc",
   "metadata": {},
   "outputs": [],
   "source": []
  },
  {
   "cell_type": "code",
   "execution_count": null,
   "id": "c2a35cd9-7a05-41b6-8c6b-0db3e6bb4fb3",
   "metadata": {},
   "outputs": [],
   "source": []
  },
  {
   "cell_type": "code",
   "execution_count": null,
   "id": "4b9c5b26-4d73-4c8d-a0d1-e4af50a1928d",
   "metadata": {},
   "outputs": [],
   "source": []
  },
  {
   "cell_type": "code",
   "execution_count": null,
   "id": "51980518-5f0e-4ffe-a922-14cd7defd3bb",
   "metadata": {},
   "outputs": [],
   "source": []
  },
  {
   "cell_type": "code",
   "execution_count": null,
   "id": "a764839a-3065-4736-affc-d80f8c883bfa",
   "metadata": {},
   "outputs": [],
   "source": []
  },
  {
   "cell_type": "code",
   "execution_count": null,
   "id": "16d17324-5ba3-4cc9-848a-389c472c08c1",
   "metadata": {},
   "outputs": [],
   "source": []
  },
  {
   "cell_type": "code",
   "execution_count": null,
   "id": "bb789169-2c7c-4303-bed9-693d57d7c6cd",
   "metadata": {},
   "outputs": [],
   "source": []
  },
  {
   "cell_type": "code",
   "execution_count": null,
   "id": "a38af976-881b-468c-8212-0580497bec6d",
   "metadata": {},
   "outputs": [],
   "source": []
  },
  {
   "cell_type": "code",
   "execution_count": null,
   "id": "b65d71b1-db7a-4434-a4b4-1daef959ae1a",
   "metadata": {},
   "outputs": [],
   "source": []
  },
  {
   "cell_type": "code",
   "execution_count": null,
   "id": "b805a1fe-8959-459d-8fef-93177c0fbfb2",
   "metadata": {},
   "outputs": [],
   "source": []
  },
  {
   "cell_type": "code",
   "execution_count": null,
   "id": "d315ae43-506e-41aa-bf5d-d9770319a3a3",
   "metadata": {},
   "outputs": [],
   "source": []
  },
  {
   "cell_type": "code",
   "execution_count": null,
   "id": "7d468b34-0681-4003-b2e8-c10d514dafd1",
   "metadata": {},
   "outputs": [],
   "source": []
  },
  {
   "cell_type": "code",
   "execution_count": null,
   "id": "f8e3a9a6-7819-453b-a281-afa27c0abeb4",
   "metadata": {},
   "outputs": [],
   "source": []
  },
  {
   "cell_type": "code",
   "execution_count": null,
   "id": "b8d297f6-8eb7-4979-8d5f-5450f275ad25",
   "metadata": {},
   "outputs": [],
   "source": []
  },
  {
   "cell_type": "code",
   "execution_count": null,
   "id": "514f14a9-6741-4124-b9a0-c179f152a968",
   "metadata": {},
   "outputs": [],
   "source": []
  },
  {
   "cell_type": "code",
   "execution_count": null,
   "id": "82b7dc83-874a-4ed6-ba95-2ddc4e7e137f",
   "metadata": {},
   "outputs": [],
   "source": []
  },
  {
   "cell_type": "code",
   "execution_count": null,
   "id": "cd0458e5-1494-493d-9ddc-69ae407861f3",
   "metadata": {},
   "outputs": [],
   "source": []
  },
  {
   "cell_type": "code",
   "execution_count": null,
   "id": "bd7c3703-ec44-4197-b72f-082a0bb89d14",
   "metadata": {},
   "outputs": [],
   "source": []
  },
  {
   "cell_type": "code",
   "execution_count": null,
   "id": "2c13cb46-c677-4cad-8ed8-4c97ea6581fd",
   "metadata": {},
   "outputs": [],
   "source": []
  },
  {
   "cell_type": "code",
   "execution_count": null,
   "id": "f44ea0ee-fc60-4b87-82ac-e7421299d1c2",
   "metadata": {},
   "outputs": [],
   "source": []
  },
  {
   "cell_type": "code",
   "execution_count": null,
   "id": "db3fcb57-ed85-47a2-8da6-e4b458679fc0",
   "metadata": {},
   "outputs": [],
   "source": []
  },
  {
   "cell_type": "code",
   "execution_count": null,
   "id": "d648903b-31e4-4546-af0f-49712c75fcb6",
   "metadata": {},
   "outputs": [],
   "source": []
  },
  {
   "cell_type": "code",
   "execution_count": null,
   "id": "fa1bb984-374b-4b74-82af-ec888d99e04d",
   "metadata": {},
   "outputs": [],
   "source": []
  },
  {
   "cell_type": "code",
   "execution_count": null,
   "id": "59895945-2b62-4853-a48a-a7cfbfe7b623",
   "metadata": {},
   "outputs": [],
   "source": []
  },
  {
   "cell_type": "code",
   "execution_count": null,
   "id": "2c121405-794c-43af-8026-ed63ad4ed5f9",
   "metadata": {},
   "outputs": [],
   "source": []
  },
  {
   "cell_type": "code",
   "execution_count": null,
   "id": "e7614ae8-e266-4e27-bb77-a9b03d25fe28",
   "metadata": {},
   "outputs": [],
   "source": []
  },
  {
   "cell_type": "code",
   "execution_count": null,
   "id": "f40c4730-84ae-43f9-be38-958a4ba0f715",
   "metadata": {},
   "outputs": [],
   "source": []
  },
  {
   "cell_type": "code",
   "execution_count": null,
   "id": "66ff1e8d-1dca-4782-a723-4ef9aa830c90",
   "metadata": {},
   "outputs": [],
   "source": []
  },
  {
   "cell_type": "code",
   "execution_count": null,
   "id": "8e2ac3ce-adf3-44ca-a87c-a06c4245876a",
   "metadata": {},
   "outputs": [],
   "source": []
  },
  {
   "cell_type": "code",
   "execution_count": null,
   "id": "9da96565-edad-453c-bd88-535793e42af5",
   "metadata": {},
   "outputs": [],
   "source": []
  },
  {
   "cell_type": "code",
   "execution_count": null,
   "id": "597fc2d1-b297-402c-b069-96de566bd7ec",
   "metadata": {},
   "outputs": [],
   "source": []
  },
  {
   "cell_type": "code",
   "execution_count": null,
   "id": "4375481d-1f75-4a64-a8e2-58cab0d62389",
   "metadata": {},
   "outputs": [],
   "source": []
  },
  {
   "cell_type": "code",
   "execution_count": null,
   "id": "98b24b3e-817a-4143-b6e6-a1fa91864528",
   "metadata": {},
   "outputs": [],
   "source": []
  },
  {
   "cell_type": "code",
   "execution_count": null,
   "id": "73214449-1ff6-4633-ab6d-55001e3d125c",
   "metadata": {},
   "outputs": [],
   "source": []
  }
 ],
 "metadata": {
  "kernelspec": {
   "display_name": "Python 3 (ipykernel)",
   "language": "python",
   "name": "python3"
  },
  "language_info": {
   "codemirror_mode": {
    "name": "ipython",
    "version": 3
   },
   "file_extension": ".py",
   "mimetype": "text/x-python",
   "name": "python",
   "nbconvert_exporter": "python",
   "pygments_lexer": "ipython3",
   "version": "3.12.4"
  }
 },
 "nbformat": 4,
 "nbformat_minor": 5
}
