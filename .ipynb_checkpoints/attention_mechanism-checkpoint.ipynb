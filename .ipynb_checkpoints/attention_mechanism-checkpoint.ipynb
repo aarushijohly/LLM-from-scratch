{
 "cells": [
  {
   "cell_type": "code",
   "execution_count": 18,
   "id": "1e612672-9d8f-4e5e-bf52-8364ac384674",
   "metadata": {},
   "outputs": [],
   "source": [
    "import torch\n",
    "import torch.nn as nn"
   ]
  },
  {
   "cell_type": "code",
   "execution_count": 19,
   "id": "4fc5878d-cb27-42a1-b6ee-5d4e5525c2e0",
   "metadata": {},
   "outputs": [],
   "source": [
    "data = [[0.43, 0.15, 0.89],\n",
    "        [0.55, 0.87, 0.66],\n",
    "        [0.57, 0.85, 0.64],\n",
    "        [0.22, 0.58, 0.33],\n",
    "        [0.77, 0.25, 0.10],\n",
    "        [0.05, 0.80, 0.55]]\n",
    "inputs = torch.tensor(data)"
   ]
  },
  {
   "cell_type": "markdown",
   "id": "f3e2cbf5-f14e-46c2-a52f-d91fe800c216",
   "metadata": {},
   "source": [
    "## A simple self-attention mechanishm without trainable weights"
   ]
  },
  {
   "cell_type": "code",
   "execution_count": 20,
   "id": "a4054beb-f5b5-47e3-9713-0a8d379e2aef",
   "metadata": {},
   "outputs": [
    {
     "name": "stdout",
     "output_type": "stream",
     "text": [
      "Context vector for all input tokens:\n",
      " tensor([[0.4421, 0.5931, 0.5790],\n",
      "        [0.4419, 0.6515, 0.5683],\n",
      "        [0.4431, 0.6496, 0.5671],\n",
      "        [0.4304, 0.6298, 0.5510],\n",
      "        [0.4671, 0.5910, 0.5266],\n",
      "        [0.4177, 0.6503, 0.5645]])\n"
     ]
    }
   ],
   "source": [
    "attn_scores = torch.zeros(6,6)\n",
    "attn_weights = torch.zeros(6,6)\n",
    "\n",
    "attn_scores = inputs @ inputs.T\n",
    "attn_weights = torch.softmax(attn_scores, dim=-1)\n",
    "context_vectors = attn_weights @ inputs\n",
    "\n",
    "print(f\"Context vector for all input tokens:\\n {context_vectors}\")"
   ]
  },
  {
   "cell_type": "markdown",
   "id": "c80f1023-cc7d-43bb-8db5-645304c6099e",
   "metadata": {},
   "source": [
    "## Implementing self-attention weights with trainable weights\n",
    "\n",
    "Initializing three weights: W_query, W_key, W_value"
   ]
  },
  {
   "cell_type": "code",
   "execution_count": 21,
   "id": "4cea9070-8c3d-42f2-8bb2-97f705d5e8ac",
   "metadata": {},
   "outputs": [],
   "source": [
    "d_in = inputs.shape[1]\n",
    "d_out = 2"
   ]
  },
  {
   "cell_type": "code",
   "execution_count": 31,
   "id": "61e17606-5879-4ba3-a22e-d0f817926fff",
   "metadata": {},
   "outputs": [],
   "source": [
    "class SelfAttention_v1(nn.Module):\n",
    "    def __init__(self, d_in, d_out):\n",
    "        super().__init__()\n",
    "        self.w_query = nn.Parameter(torch.rand(d_in, d_out))\n",
    "        self.w_key = nn.Parameter(torch.rand(d_in, d_out))\n",
    "        self.w_value = nn.Parameter(torch.rand(d_in, d_out))\n",
    "    def forward(self, x):\n",
    "        queries = x @ self.w_query\n",
    "        keys = x @ self.w_key\n",
    "        values = x @ self.w_value\n",
    "        attention_scores = queries @ keys.T\n",
    "        attenton_weights = torch.softmax(attention_scores / keys.shape[-1]**0.5, dim=-1)\n",
    "        context_vector = attenton_weights @ values\n",
    "        return context_vector\n",
    "\n",
    "class SelfAttention_v2(nn.Module):\n",
    "    def __init__(self, d_in, d_out, qkv_bias=False):\n",
    "        super().__init__()\n",
    "        self.w_query = nn.Linear(d_in, d_out, bias=qkv_bias)\n",
    "        self.w_key = nn.Linear(d_in, d_out, bias=qkv_bias)\n",
    "        self.w_value = nn.Linear(d_in, d_out, bias=qkv_bias)\n",
    "    def forward(self, x):\n",
    "        keys = self.w_key(x)\n",
    "        queries = self.w_query(x)\n",
    "        values = self.w_value(x)\n",
    "        attention_scores = queries @ keys.T\n",
    "        attention_weights = torch.softmax(attention_scores / keys.shape[-1]**0.5, dim=-1)\n",
    "        context_vector = attention_weights @ values\n",
    "        return context_vector    "
   ]
  },
  {
   "cell_type": "code",
   "execution_count": 40,
   "id": "df3fb809-4644-4c0c-b994-f8edc8b095da",
   "metadata": {},
   "outputs": [
    {
     "name": "stdout",
     "output_type": "stream",
     "text": [
      "Forward pass on inputs in version 1:\n",
      " tensor([[0.2996, 0.8053],\n",
      "        [0.3061, 0.8210],\n",
      "        [0.3058, 0.8203],\n",
      "        [0.2948, 0.7939],\n",
      "        [0.2927, 0.7891],\n",
      "        [0.2990, 0.8040]], grad_fn=<MmBackward0>)\n",
      "Forward pass on inputs in version 2:\n",
      " tensor([[-0.0739,  0.0713],\n",
      "        [-0.0748,  0.0703],\n",
      "        [-0.0749,  0.0702],\n",
      "        [-0.0760,  0.0685],\n",
      "        [-0.0763,  0.0679],\n",
      "        [-0.0754,  0.0693]], grad_fn=<MmBackward0>)\n"
     ]
    }
   ],
   "source": [
    "torch.manual_seed(123)\n",
    "sa_v1 = SelfAttention_v1(d_in, d_out)\n",
    "print(f\"Forward pass on inputs in version 1:\\n {sa_v1.forward(inputs)}\")\n",
    "\n",
    "torch.manual_seed(789)\n",
    "sa_v2 = SelfAttention_v2(d_in, d_out)\n",
    "print(f\"Forward pass on inputs in version 2:\\n {sa_v2.forward(inputs)}\")"
   ]
  },
  {
   "cell_type": "code",
   "execution_count": null,
   "id": "9adca875-c805-4191-bb81-b0f46c9592e6",
   "metadata": {},
   "outputs": [],
   "source": []
  },
  {
   "cell_type": "code",
   "execution_count": null,
   "id": "4aae0905-873f-4ea4-a398-34746091e746",
   "metadata": {},
   "outputs": [],
   "source": []
  },
  {
   "cell_type": "code",
   "execution_count": null,
   "id": "415a8b27-c697-4a58-b244-719bae57594a",
   "metadata": {},
   "outputs": [],
   "source": []
  },
  {
   "cell_type": "code",
   "execution_count": null,
   "id": "ef78ac6b-f2e2-4718-90e5-457ccaf3ee48",
   "metadata": {},
   "outputs": [],
   "source": []
  },
  {
   "cell_type": "code",
   "execution_count": null,
   "id": "90653210-4ee9-4e04-ab1c-36d209820b4b",
   "metadata": {},
   "outputs": [],
   "source": []
  },
  {
   "cell_type": "code",
   "execution_count": null,
   "id": "d93e78f9-d6c1-4916-aad5-c94a3a05baa4",
   "metadata": {},
   "outputs": [],
   "source": []
  },
  {
   "cell_type": "code",
   "execution_count": null,
   "id": "321be439-259e-4db9-80af-77ebc37d1401",
   "metadata": {},
   "outputs": [],
   "source": []
  },
  {
   "cell_type": "code",
   "execution_count": null,
   "id": "99724a43-7bbc-498f-aa0d-6c65ff6dd348",
   "metadata": {},
   "outputs": [],
   "source": []
  },
  {
   "cell_type": "code",
   "execution_count": null,
   "id": "4384a69e-f8d8-4a52-93a5-63c37ad362cc",
   "metadata": {},
   "outputs": [],
   "source": []
  },
  {
   "cell_type": "code",
   "execution_count": null,
   "id": "d6f6939f-1ea5-4421-bb4f-b7ac7325924d",
   "metadata": {},
   "outputs": [],
   "source": []
  },
  {
   "cell_type": "code",
   "execution_count": null,
   "id": "6c2f7dd8-f635-4c62-8bd5-64561756b095",
   "metadata": {},
   "outputs": [],
   "source": []
  },
  {
   "cell_type": "code",
   "execution_count": null,
   "id": "d498efc3-f052-4fd7-acc1-3e0b18b5b1fd",
   "metadata": {},
   "outputs": [],
   "source": []
  },
  {
   "cell_type": "code",
   "execution_count": null,
   "id": "cb9f7bd4-6e39-4389-b623-d34c6f2e9335",
   "metadata": {},
   "outputs": [],
   "source": []
  },
  {
   "cell_type": "code",
   "execution_count": null,
   "id": "4900bdd9-f360-402d-bccd-9f6886b3337e",
   "metadata": {},
   "outputs": [],
   "source": []
  },
  {
   "cell_type": "code",
   "execution_count": null,
   "id": "9daab711-6c66-4d7c-81df-d01ec7463f55",
   "metadata": {},
   "outputs": [],
   "source": []
  },
  {
   "cell_type": "code",
   "execution_count": null,
   "id": "05d61d89-e5e7-4b83-b2c7-3a087d7389c1",
   "metadata": {},
   "outputs": [],
   "source": []
  },
  {
   "cell_type": "code",
   "execution_count": null,
   "id": "ee5a2cfb-e12c-4ebb-a288-12a7bac6a80b",
   "metadata": {},
   "outputs": [],
   "source": []
  },
  {
   "cell_type": "code",
   "execution_count": null,
   "id": "d2bc63dd-637f-4400-88ed-544be19ac6c9",
   "metadata": {},
   "outputs": [],
   "source": []
  },
  {
   "cell_type": "code",
   "execution_count": null,
   "id": "370b5cdf-ae3d-49ac-b777-3d97c07d8811",
   "metadata": {},
   "outputs": [],
   "source": []
  },
  {
   "cell_type": "code",
   "execution_count": null,
   "id": "0b7c2394-457a-4cd3-a03e-f4cfede55beb",
   "metadata": {},
   "outputs": [],
   "source": []
  },
  {
   "cell_type": "code",
   "execution_count": null,
   "id": "8efe65f1-f1b0-42bb-932c-87513903016b",
   "metadata": {},
   "outputs": [],
   "source": []
  },
  {
   "cell_type": "code",
   "execution_count": null,
   "id": "bb35ae17-eeb2-4168-a723-76378a5820dc",
   "metadata": {},
   "outputs": [],
   "source": []
  },
  {
   "cell_type": "code",
   "execution_count": null,
   "id": "c3d6e2f6-e5ef-4bc7-aebe-1c06810c3920",
   "metadata": {},
   "outputs": [],
   "source": []
  },
  {
   "cell_type": "code",
   "execution_count": null,
   "id": "edf21ce6-f6dc-4326-90b2-8f19fc13edf3",
   "metadata": {},
   "outputs": [],
   "source": []
  },
  {
   "cell_type": "code",
   "execution_count": null,
   "id": "386771da-fafb-4307-a935-86d30aee2c79",
   "metadata": {},
   "outputs": [],
   "source": []
  },
  {
   "cell_type": "code",
   "execution_count": null,
   "id": "ce169417-f082-408b-8e95-e936cffa7a0e",
   "metadata": {},
   "outputs": [],
   "source": []
  },
  {
   "cell_type": "code",
   "execution_count": null,
   "id": "87347b28-170e-464e-8d69-aecf4d625c3a",
   "metadata": {},
   "outputs": [],
   "source": []
  }
 ],
 "metadata": {
  "kernelspec": {
   "display_name": "Python 3 (ipykernel)",
   "language": "python",
   "name": "python3"
  },
  "language_info": {
   "codemirror_mode": {
    "name": "ipython",
    "version": 3
   },
   "file_extension": ".py",
   "mimetype": "text/x-python",
   "name": "python",
   "nbconvert_exporter": "python",
   "pygments_lexer": "ipython3",
   "version": "3.13.2"
  }
 },
 "nbformat": 4,
 "nbformat_minor": 5
}
