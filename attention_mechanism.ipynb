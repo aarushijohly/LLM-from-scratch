{
 "cells": [
  {
   "cell_type": "markdown",
   "id": "f3e2cbf5-f14e-46c2-a52f-d91fe800c216",
   "metadata": {},
   "source": [
    "## A simple self-attention mechanishm without trainable weights"
   ]
  },
  {
   "cell_type": "code",
   "execution_count": 2,
   "id": "972d1c7a-6a53-4c8b-bced-c35e7f457401",
   "metadata": {},
   "outputs": [],
   "source": [
    "import torch"
   ]
  },
  {
   "cell_type": "code",
   "execution_count": 3,
   "id": "4fc5878d-cb27-42a1-b6ee-5d4e5525c2e0",
   "metadata": {},
   "outputs": [],
   "source": [
    "data = [[0.43, 0.15, 0.89],\n",
    "        [0.55, 0.87, 0.66],\n",
    "        [0.57, 0.85, 0.64],\n",
    "        [0.22, 0.58, 0.33],\n",
    "        [0.77, 0.25, 0.10],\n",
    "        [0.05, 0.80, 0.55]]\n",
    "inputs = torch.tensor(data)"
   ]
  },
  {
   "cell_type": "markdown",
   "id": "49f86999-8116-4e26-b19e-811d6710de33",
   "metadata": {},
   "source": [
    "Calculating context vector for second input vector."
   ]
  },
  {
   "cell_type": "code",
   "execution_count": 4,
   "id": "b1f085f2-d4c3-480d-9722-b5636b8f450f",
   "metadata": {},
   "outputs": [
    {
     "name": "stdout",
     "output_type": "stream",
     "text": [
      "Attention scores: tensor([0.9544, 1.4950, 1.4754, 0.8434, 0.7070, 1.0865])\n",
      "Attention weights: tensor([0.1385, 0.2379, 0.2333, 0.1240, 0.1082, 0.1581])\n",
      "tensor([0.4419, 0.6515, 0.5683])\n"
     ]
    }
   ],
   "source": [
    "query = inputs[1]\n",
    "attn_score_2 = torch.zeros(inputs.shape[0])\n",
    "attn_weights_2 = torch.zeros(inputs.shape[0])\n",
    "for i, x_i in enumerate(inputs):\n",
    "    attn_score_2[i] = torch.dot(x_i, query)\n",
    "    \n",
    "attn_weights_2 = torch.softmax(attn_score_2, dim=0)\n",
    "print(f\"Attention scores: {attn_score_2}\")\n",
    "print(f\"Attention weights: {attn_weights_2}\")\n",
    "\n",
    "context_vec_2 = torch.zeros(query.shape)\n",
    "for i, x_i in enumerate(inputs):\n",
    "    context_vec_2 += attn_weights_2[i]*x_i\n",
    "print(context_vec_2)"
   ]
  },
  {
   "cell_type": "markdown",
   "id": "e31a6ac1-c4f7-4584-952f-e8f6d67f52de",
   "metadata": {},
   "source": [
    "Calculating context vector for all of the input vectors."
   ]
  },
  {
   "cell_type": "code",
   "execution_count": 5,
   "id": "a4054beb-f5b5-47e3-9713-0a8d379e2aef",
   "metadata": {},
   "outputs": [
    {
     "name": "stdout",
     "output_type": "stream",
     "text": [
      "tensor([[0.4421, 0.5931, 0.5790],\n",
      "        [0.4419, 0.6515, 0.5683],\n",
      "        [0.4431, 0.6496, 0.5671],\n",
      "        [0.4304, 0.6298, 0.5510],\n",
      "        [0.4671, 0.5910, 0.5266],\n",
      "        [0.4177, 0.6503, 0.5645]])\n"
     ]
    }
   ],
   "source": [
    "attn_scores = torch.zeros(6,6)\n",
    "attn_weights = torch.zeros(6,6)\n",
    "\n",
    "attn_scores = inputs @ inputs.T\n",
    "attn_weights = torch.softmax(attn_scores, dim=-1)\n",
    "context_vectors = attn_weights @ inputs\n",
    "\n",
    "print(context_vectors)"
   ]
  },
  {
   "cell_type": "markdown",
   "id": "c80f1023-cc7d-43bb-8db5-645304c6099e",
   "metadata": {},
   "source": [
    "## Implementing self-attention weights with trainable weights"
   ]
  },
  {
   "cell_type": "code",
   "execution_count": 6,
   "id": "96c00b08-90fe-4121-993c-61dcf44f7d80",
   "metadata": {},
   "outputs": [],
   "source": [
    "x_2 = inputs[1]\n",
    "d_in = inputs.shape[1] #input embedding size, d=3\n",
    "d_out = 2 #output embedding size, d=2"
   ]
  },
  {
   "cell_type": "markdown",
   "id": "069f78f6-f568-401f-851d-2dedb5501871",
   "metadata": {},
   "source": [
    "## Initializing three weights, W_query, W_key, W_value"
   ]
  },
  {
   "cell_type": "code",
   "execution_count": 7,
   "id": "4cea9070-8c3d-42f2-8bb2-97f705d5e8ac",
   "metadata": {},
   "outputs": [],
   "source": [
    "torch.manual_seed(123)\n",
    "w_query = torch.nn.Parameter(torch.rand(d_in, d_out), requires_grad=False)\n",
    "w_key = torch.nn.Parameter(torch.rand(d_in, d_out), requires_grad=False)\n",
    "w_value = torch.nn.Parameter(torch.rand(d_in, d_out), requires_grad=False)"
   ]
  },
  {
   "cell_type": "code",
   "execution_count": 8,
   "id": "c92e3b36-a8e3-4f5f-88d0-f8cfce4b7777",
   "metadata": {},
   "outputs": [],
   "source": [
    "query_2 = x_2 @ w_query\n",
    "key_2 = x_2 @ w_key\n",
    "value_2 = x_2 @ w_value"
   ]
  },
  {
   "cell_type": "code",
   "execution_count": 9,
   "id": "5ce101b5-1b7e-40b0-9837-ed21e5d905d5",
   "metadata": {},
   "outputs": [
    {
     "data": {
      "text/plain": [
       "tensor([0.4306, 1.4551])"
      ]
     },
     "execution_count": 9,
     "metadata": {},
     "output_type": "execute_result"
    }
   ],
   "source": [
    "query_2"
   ]
  },
  {
   "cell_type": "code",
   "execution_count": null,
   "id": "e1b186e0-fc89-48d2-b0c6-757ab8e1d291",
   "metadata": {},
   "outputs": [],
   "source": []
  },
  {
   "cell_type": "code",
   "execution_count": null,
   "id": "af796feb-0176-4231-81c2-9e0258bf3d21",
   "metadata": {},
   "outputs": [],
   "source": []
  },
  {
   "cell_type": "code",
   "execution_count": null,
   "id": "920389cc-f6b0-4d5b-a412-b0b91f5a4f8d",
   "metadata": {},
   "outputs": [],
   "source": []
  },
  {
   "cell_type": "code",
   "execution_count": null,
   "id": "41fb4148-ec9d-4520-99a8-4faa15604bb6",
   "metadata": {},
   "outputs": [],
   "source": []
  },
  {
   "cell_type": "code",
   "execution_count": null,
   "id": "314ccb1e-d436-49f9-a1de-4e2f4eaf89cd",
   "metadata": {},
   "outputs": [],
   "source": []
  },
  {
   "cell_type": "code",
   "execution_count": null,
   "id": "a8267f33-e3c9-4830-b32d-7751debedb3c",
   "metadata": {},
   "outputs": [],
   "source": []
  },
  {
   "cell_type": "code",
   "execution_count": null,
   "id": "bfbc0f61-77d4-41c9-9ca4-4bc2c919ca0e",
   "metadata": {},
   "outputs": [],
   "source": []
  },
  {
   "cell_type": "code",
   "execution_count": null,
   "id": "4b4df40c-d7ca-4794-9235-682f211fdc14",
   "metadata": {},
   "outputs": [],
   "source": []
  },
  {
   "cell_type": "code",
   "execution_count": null,
   "id": "72c7e3fa-e1e8-4804-957f-f87751b0ad11",
   "metadata": {},
   "outputs": [],
   "source": []
  },
  {
   "cell_type": "code",
   "execution_count": null,
   "id": "39acf659-2e2f-4e81-9b6d-59b7cb1ceb59",
   "metadata": {},
   "outputs": [],
   "source": []
  },
  {
   "cell_type": "code",
   "execution_count": null,
   "id": "4384a69e-f8d8-4a52-93a5-63c37ad362cc",
   "metadata": {},
   "outputs": [],
   "source": []
  },
  {
   "cell_type": "code",
   "execution_count": null,
   "id": "d6f6939f-1ea5-4421-bb4f-b7ac7325924d",
   "metadata": {},
   "outputs": [],
   "source": []
  },
  {
   "cell_type": "code",
   "execution_count": null,
   "id": "6c2f7dd8-f635-4c62-8bd5-64561756b095",
   "metadata": {},
   "outputs": [],
   "source": []
  },
  {
   "cell_type": "code",
   "execution_count": null,
   "id": "d498efc3-f052-4fd7-acc1-3e0b18b5b1fd",
   "metadata": {},
   "outputs": [],
   "source": []
  },
  {
   "cell_type": "code",
   "execution_count": null,
   "id": "cb9f7bd4-6e39-4389-b623-d34c6f2e9335",
   "metadata": {},
   "outputs": [],
   "source": []
  },
  {
   "cell_type": "code",
   "execution_count": null,
   "id": "4900bdd9-f360-402d-bccd-9f6886b3337e",
   "metadata": {},
   "outputs": [],
   "source": []
  },
  {
   "cell_type": "code",
   "execution_count": null,
   "id": "9daab711-6c66-4d7c-81df-d01ec7463f55",
   "metadata": {},
   "outputs": [],
   "source": []
  },
  {
   "cell_type": "code",
   "execution_count": null,
   "id": "05d61d89-e5e7-4b83-b2c7-3a087d7389c1",
   "metadata": {},
   "outputs": [],
   "source": []
  },
  {
   "cell_type": "code",
   "execution_count": null,
   "id": "ee5a2cfb-e12c-4ebb-a288-12a7bac6a80b",
   "metadata": {},
   "outputs": [],
   "source": []
  },
  {
   "cell_type": "code",
   "execution_count": null,
   "id": "d2bc63dd-637f-4400-88ed-544be19ac6c9",
   "metadata": {},
   "outputs": [],
   "source": []
  },
  {
   "cell_type": "code",
   "execution_count": null,
   "id": "370b5cdf-ae3d-49ac-b777-3d97c07d8811",
   "metadata": {},
   "outputs": [],
   "source": []
  },
  {
   "cell_type": "code",
   "execution_count": null,
   "id": "0b7c2394-457a-4cd3-a03e-f4cfede55beb",
   "metadata": {},
   "outputs": [],
   "source": []
  },
  {
   "cell_type": "code",
   "execution_count": null,
   "id": "8efe65f1-f1b0-42bb-932c-87513903016b",
   "metadata": {},
   "outputs": [],
   "source": []
  },
  {
   "cell_type": "code",
   "execution_count": null,
   "id": "bb35ae17-eeb2-4168-a723-76378a5820dc",
   "metadata": {},
   "outputs": [],
   "source": []
  },
  {
   "cell_type": "code",
   "execution_count": null,
   "id": "c3d6e2f6-e5ef-4bc7-aebe-1c06810c3920",
   "metadata": {},
   "outputs": [],
   "source": []
  },
  {
   "cell_type": "code",
   "execution_count": null,
   "id": "edf21ce6-f6dc-4326-90b2-8f19fc13edf3",
   "metadata": {},
   "outputs": [],
   "source": []
  },
  {
   "cell_type": "code",
   "execution_count": null,
   "id": "386771da-fafb-4307-a935-86d30aee2c79",
   "metadata": {},
   "outputs": [],
   "source": []
  },
  {
   "cell_type": "code",
   "execution_count": null,
   "id": "ce169417-f082-408b-8e95-e936cffa7a0e",
   "metadata": {},
   "outputs": [],
   "source": []
  },
  {
   "cell_type": "code",
   "execution_count": null,
   "id": "87347b28-170e-464e-8d69-aecf4d625c3a",
   "metadata": {},
   "outputs": [],
   "source": []
  }
 ],
 "metadata": {
  "kernelspec": {
   "display_name": "Python 3 (ipykernel)",
   "language": "python",
   "name": "python3"
  },
  "language_info": {
   "codemirror_mode": {
    "name": "ipython",
    "version": 3
   },
   "file_extension": ".py",
   "mimetype": "text/x-python",
   "name": "python",
   "nbconvert_exporter": "python",
   "pygments_lexer": "ipython3",
   "version": "3.13.2"
  }
 },
 "nbformat": 4,
 "nbformat_minor": 5
}
