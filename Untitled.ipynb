{
 "cells": [
  {
   "cell_type": "markdown",
   "id": "5ba97669-3654-4ac1-91ff-87c84cedafee",
   "metadata": {},
   "source": [
    "## Implementing simplified attension mechanism"
   ]
  },
  {
   "cell_type": "code",
   "execution_count": 1,
   "id": "1928ee1e-86df-4ab8-bacc-6de56a3bf6ba",
   "metadata": {},
   "outputs": [],
   "source": [
    "import torch"
   ]
  },
  {
   "cell_type": "code",
   "execution_count": 6,
   "id": "e3253a44-bddc-4c30-b985-6a6e4e4f2855",
   "metadata": {},
   "outputs": [],
   "source": [
    "inputs = torch.tensor(\n",
    "    [[0.43, 0.5, 0.89], #your\n",
    "     [0.55, 0.87, 0.66], #journey\n",
    "     [0.57, 0.85, 0.64], #starts\n",
    "     [0.22, 0.58, 0.33], #with\n",
    "     [0.77, 0.25, 0.10], #one\n",
    "     [0.05, 0.80, 0.55]] #step\n",
    ")"
   ]
  },
  {
   "cell_type": "code",
   "execution_count": 7,
   "id": "c6305888-d856-4811-ba45-e42bb9c56166",
   "metadata": {},
   "outputs": [
    {
     "name": "stdout",
     "output_type": "stream",
     "text": [
      "tensor([1.2589, 1.4950, 1.4754, 0.8434, 0.7070, 1.0865])\n"
     ]
    }
   ],
   "source": [
    "query = inputs[1]\n",
    "\n",
    "attn_score_2 = torch.empty(inputs.shape[0])\n",
    "\n",
    "for i,x_i in enumerate(inputs):\n",
    "    attn_score_2[i] = torch.dot(x_i, query)\n",
    "\n",
    "print(attn_score_2)"
   ]
  },
  {
   "cell_type": "code",
   "execution_count": 9,
   "id": "2ea6482c-7fa7-4608-a93d-221759e0d5ca",
   "metadata": {},
   "outputs": [
    {
     "name": "stdout",
     "output_type": "stream",
     "text": [
      "Attention weights: tensor([0.1833, 0.2177, 0.2149, 0.1228, 0.1030, 0.1582])\n",
      "Sum: tensor(1.)\n"
     ]
    }
   ],
   "source": [
    "#normalizing the weights by dividing by the toal sum\n",
    "attn_weights_2_tmp = attn_score_2/attn_score_2.sum()\n",
    "print(\"Attention weights:\", attn_weights_2_tmp)\n",
    "print(\"Sum:\", attn_weights_2_tmp.sum())"
   ]
  },
  {
   "cell_type": "code",
   "execution_count": null,
   "id": "934dbc9f-8820-4847-973d-c396465a8ec8",
   "metadata": {},
   "outputs": [],
   "source": [
    "#normalizing the weights using softmax\n"
   ]
  },
  {
   "cell_type": "code",
   "execution_count": 11,
   "id": "8ae92352-8807-4347-bf52-4527bb262155",
   "metadata": {},
   "outputs": [
    {
     "name": "stdout",
     "output_type": "stream",
     "text": [
      "Attention weights: tensor([0.1790, 0.2267, 0.2223, 0.1182, 0.1031, 0.1507])\n",
      "Sum: tensor(1.0000)\n"
     ]
    }
   ],
   "source": [
    "def softmax_naive(x):\n",
    "    return torch.exp(x)/torch.exp(x).sum(dim=0)\n",
    "    \n",
    "attn_weights_2_naive = softmax_naive(attn_score_2)\n",
    "print(\"Attention weights:\", attn_weights_2_naive)\n",
    "print(\"Sum:\", attn_weights_2_naive.sum())"
   ]
  },
  {
   "cell_type": "code",
   "execution_count": 13,
   "id": "013c649b-a25b-4a39-b0e2-0d3490fffe00",
   "metadata": {},
   "outputs": [
    {
     "name": "stdout",
     "output_type": "stream",
     "text": [
      "Attention weights: tensor([0.1790, 0.2267, 0.2223, 0.1182, 0.1031, 0.1507])\n",
      "Sum: tensor(1.0000)\n"
     ]
    }
   ],
   "source": [
    "attn_weights_2 = torch.softmax(attn_score_2, dim=0)\n",
    "print(\"Attention weights:\", attn_weights_2)\n",
    "print(\"Sum:\", attn_weights_2.sum())"
   ]
  },
  {
   "cell_type": "code",
   "execution_count": null,
   "id": "42224750-97a5-419b-a215-27013ec9abe5",
   "metadata": {},
   "outputs": [],
   "source": []
  },
  {
   "cell_type": "code",
   "execution_count": null,
   "id": "55bc2cd5-85c4-42f4-a742-6002412f7d97",
   "metadata": {},
   "outputs": [],
   "source": []
  },
  {
   "cell_type": "code",
   "execution_count": null,
   "id": "44b30959-8a9c-4083-ab9a-60071992a206",
   "metadata": {},
   "outputs": [],
   "source": []
  },
  {
   "cell_type": "code",
   "execution_count": null,
   "id": "3bc3d0c2-a85e-4419-9f6b-3074b3a900ed",
   "metadata": {},
   "outputs": [],
   "source": []
  },
  {
   "cell_type": "code",
   "execution_count": null,
   "id": "799f3308-8b14-4292-92e0-b6e751abb386",
   "metadata": {},
   "outputs": [],
   "source": []
  },
  {
   "cell_type": "code",
   "execution_count": null,
   "id": "53db3194-7ba9-4593-84d7-7b8149dd9c95",
   "metadata": {},
   "outputs": [],
   "source": []
  },
  {
   "cell_type": "code",
   "execution_count": null,
   "id": "c0247cfb-4e49-47a5-a2d6-05e513b8f53a",
   "metadata": {},
   "outputs": [],
   "source": []
  },
  {
   "cell_type": "code",
   "execution_count": null,
   "id": "37d21e09-5b7a-43f7-ad69-250f2bb290cd",
   "metadata": {},
   "outputs": [],
   "source": []
  },
  {
   "cell_type": "code",
   "execution_count": null,
   "id": "88690b4e-b9dc-40ea-8758-4b13e99020cb",
   "metadata": {},
   "outputs": [],
   "source": []
  },
  {
   "cell_type": "code",
   "execution_count": null,
   "id": "96360e1c-a043-4e14-b05c-d23d83bbb5c8",
   "metadata": {},
   "outputs": [],
   "source": []
  },
  {
   "cell_type": "code",
   "execution_count": null,
   "id": "406ef3c6-2f38-4a76-9011-c284ae7f5de8",
   "metadata": {},
   "outputs": [],
   "source": []
  },
  {
   "cell_type": "code",
   "execution_count": null,
   "id": "82901305-891e-4275-ba23-0d4ffb82fe37",
   "metadata": {},
   "outputs": [],
   "source": []
  },
  {
   "cell_type": "code",
   "execution_count": null,
   "id": "7c8ac580-f460-4c42-bed1-2f0be9f2e541",
   "metadata": {},
   "outputs": [],
   "source": []
  },
  {
   "cell_type": "code",
   "execution_count": null,
   "id": "6df93fb2-9466-43c9-9ed8-52a20c87cda5",
   "metadata": {},
   "outputs": [],
   "source": []
  },
  {
   "cell_type": "code",
   "execution_count": null,
   "id": "501f84c7-348e-40b3-a135-bd0f22a63c63",
   "metadata": {},
   "outputs": [],
   "source": []
  },
  {
   "cell_type": "code",
   "execution_count": null,
   "id": "800f7f88-e504-4c71-86fe-37d54fc6a0ac",
   "metadata": {},
   "outputs": [],
   "source": []
  },
  {
   "cell_type": "code",
   "execution_count": null,
   "id": "dc7b4e49-ef7f-4014-814e-87ef21ff6593",
   "metadata": {},
   "outputs": [],
   "source": []
  },
  {
   "cell_type": "code",
   "execution_count": null,
   "id": "dc5b7647-e875-4192-ba5d-ffaf461c8b75",
   "metadata": {},
   "outputs": [],
   "source": []
  },
  {
   "cell_type": "code",
   "execution_count": null,
   "id": "d4fd8673-7206-4b8a-b5fc-328a20d13307",
   "metadata": {},
   "outputs": [],
   "source": []
  },
  {
   "cell_type": "code",
   "execution_count": null,
   "id": "2691e086-e875-4b05-b155-944bef08dd99",
   "metadata": {},
   "outputs": [],
   "source": []
  },
  {
   "cell_type": "code",
   "execution_count": null,
   "id": "051f38c2-2d8f-4fe2-98e1-f00aa38b2ee8",
   "metadata": {},
   "outputs": [],
   "source": []
  },
  {
   "cell_type": "code",
   "execution_count": null,
   "id": "ef9760a4-832a-48b4-b0ea-04299862c95e",
   "metadata": {},
   "outputs": [],
   "source": []
  },
  {
   "cell_type": "code",
   "execution_count": null,
   "id": "c472237a-d04f-478c-a8f1-17dcf7fc14c7",
   "metadata": {},
   "outputs": [],
   "source": []
  },
  {
   "cell_type": "code",
   "execution_count": null,
   "id": "255b8671-ccad-46ea-8112-b4efd86d8180",
   "metadata": {},
   "outputs": [],
   "source": []
  },
  {
   "cell_type": "code",
   "execution_count": null,
   "id": "df9ac7a3-0ec3-4d0f-a3b5-b2a92efce3df",
   "metadata": {},
   "outputs": [],
   "source": []
  },
  {
   "cell_type": "code",
   "execution_count": null,
   "id": "f4bd1984-2c10-4e3e-8734-cfa0ac73b2e5",
   "metadata": {},
   "outputs": [],
   "source": []
  },
  {
   "cell_type": "code",
   "execution_count": null,
   "id": "f8391282-197d-4726-9eac-7c8f2a663505",
   "metadata": {},
   "outputs": [],
   "source": []
  },
  {
   "cell_type": "code",
   "execution_count": null,
   "id": "c9332044-6079-4f80-96e0-307d18d07fff",
   "metadata": {},
   "outputs": [],
   "source": []
  },
  {
   "cell_type": "code",
   "execution_count": null,
   "id": "a6ad60ec-01fe-4d84-be91-7933d7505ffb",
   "metadata": {},
   "outputs": [],
   "source": []
  },
  {
   "cell_type": "code",
   "execution_count": null,
   "id": "91fd21f5-f995-43a6-ba12-ff8c3f8eb1fb",
   "metadata": {},
   "outputs": [],
   "source": []
  },
  {
   "cell_type": "code",
   "execution_count": null,
   "id": "271c7f81-4d68-40c8-8146-f65d30e6dfab",
   "metadata": {},
   "outputs": [],
   "source": []
  },
  {
   "cell_type": "code",
   "execution_count": null,
   "id": "90cdfaf2-4f9f-41c0-9533-dc4085e29d2c",
   "metadata": {},
   "outputs": [],
   "source": []
  },
  {
   "cell_type": "code",
   "execution_count": null,
   "id": "d4ce6e96-309e-4b82-9436-012f855f5324",
   "metadata": {},
   "outputs": [],
   "source": []
  },
  {
   "cell_type": "code",
   "execution_count": null,
   "id": "98305d9a-1e7f-4f76-a71e-e2d0e88c5bd6",
   "metadata": {},
   "outputs": [],
   "source": []
  },
  {
   "cell_type": "code",
   "execution_count": null,
   "id": "0088db72-662c-4ed8-b7d9-63b5bb5851a0",
   "metadata": {},
   "outputs": [],
   "source": []
  },
  {
   "cell_type": "code",
   "execution_count": null,
   "id": "fc8dbde5-b408-4951-a6cc-8ca988cff20b",
   "metadata": {},
   "outputs": [],
   "source": []
  },
  {
   "cell_type": "code",
   "execution_count": null,
   "id": "1c4c217c-9c15-45cd-92b9-85760cd1e440",
   "metadata": {},
   "outputs": [],
   "source": []
  },
  {
   "cell_type": "code",
   "execution_count": null,
   "id": "2b838634-2aa6-448f-98b4-be38488a6422",
   "metadata": {},
   "outputs": [],
   "source": []
  },
  {
   "cell_type": "code",
   "execution_count": null,
   "id": "19002648-856f-4588-a441-7f751f96c0b3",
   "metadata": {},
   "outputs": [],
   "source": []
  },
  {
   "cell_type": "code",
   "execution_count": null,
   "id": "e5b0a8c5-cff9-40d0-a6cc-0c6e9f0659e9",
   "metadata": {},
   "outputs": [],
   "source": []
  },
  {
   "cell_type": "code",
   "execution_count": null,
   "id": "2cdc7eb2-ca51-4b0b-93f6-3ddeb45d0341",
   "metadata": {},
   "outputs": [],
   "source": []
  },
  {
   "cell_type": "code",
   "execution_count": null,
   "id": "6e81ece6-40af-4775-b1a2-0b0348f04f2b",
   "metadata": {},
   "outputs": [],
   "source": []
  },
  {
   "cell_type": "code",
   "execution_count": null,
   "id": "b1cc9d43-dbdc-42d5-bd73-75850e55debf",
   "metadata": {},
   "outputs": [],
   "source": []
  },
  {
   "cell_type": "code",
   "execution_count": null,
   "id": "3ca8893e-8395-4c1c-b8c9-d12c362a8b5d",
   "metadata": {},
   "outputs": [],
   "source": []
  },
  {
   "cell_type": "code",
   "execution_count": null,
   "id": "2837572a-bbdb-4073-8243-2cfed8ff32cc",
   "metadata": {},
   "outputs": [],
   "source": []
  },
  {
   "cell_type": "code",
   "execution_count": null,
   "id": "df7fe79e-78a6-440c-a766-e1396ef796d4",
   "metadata": {},
   "outputs": [],
   "source": []
  },
  {
   "cell_type": "code",
   "execution_count": null,
   "id": "71ca6c36-6661-4883-b8ad-6f93026dd6e5",
   "metadata": {},
   "outputs": [],
   "source": []
  },
  {
   "cell_type": "code",
   "execution_count": null,
   "id": "d976df14-d99d-49b2-b599-f1048cbc4b1a",
   "metadata": {},
   "outputs": [],
   "source": []
  },
  {
   "cell_type": "code",
   "execution_count": null,
   "id": "ea0b2681-a0da-49a9-8507-5ff341b101cd",
   "metadata": {},
   "outputs": [],
   "source": []
  },
  {
   "cell_type": "code",
   "execution_count": null,
   "id": "8994bc7a-7c52-4a4d-8015-1298605a2b2f",
   "metadata": {},
   "outputs": [],
   "source": []
  },
  {
   "cell_type": "code",
   "execution_count": null,
   "id": "d56b8cbf-73cf-4b30-9aed-136901936ac2",
   "metadata": {},
   "outputs": [],
   "source": []
  },
  {
   "cell_type": "code",
   "execution_count": null,
   "id": "ee13894a-870d-43ba-9140-1182def8e0a1",
   "metadata": {},
   "outputs": [],
   "source": []
  },
  {
   "cell_type": "code",
   "execution_count": null,
   "id": "0ba9fb3a-020e-4064-a073-ad7e5b674459",
   "metadata": {},
   "outputs": [],
   "source": []
  },
  {
   "cell_type": "code",
   "execution_count": null,
   "id": "4c332604-5342-434a-91b9-7eddfc87ef0d",
   "metadata": {},
   "outputs": [],
   "source": []
  },
  {
   "cell_type": "code",
   "execution_count": null,
   "id": "e9362918-e1fe-4cf8-b763-1fb1ec4b6802",
   "metadata": {},
   "outputs": [],
   "source": []
  }
 ],
 "metadata": {
  "kernelspec": {
   "display_name": "Python 3 (ipykernel)",
   "language": "python",
   "name": "python3"
  },
  "language_info": {
   "codemirror_mode": {
    "name": "ipython",
    "version": 3
   },
   "file_extension": ".py",
   "mimetype": "text/x-python",
   "name": "python",
   "nbconvert_exporter": "python",
   "pygments_lexer": "ipython3",
   "version": "3.13.2"
  }
 },
 "nbformat": 4,
 "nbformat_minor": 5
}
